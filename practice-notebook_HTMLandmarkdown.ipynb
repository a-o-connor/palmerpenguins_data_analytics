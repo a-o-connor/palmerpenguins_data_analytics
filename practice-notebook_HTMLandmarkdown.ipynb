{
 "cells": [
  {
   "cell_type": "code",
   "execution_count": null,
   "metadata": {},
   "outputs": [],
   "source": []
  },
  {
   "cell_type": "markdown",
   "metadata": {},
   "source": [
    "<p>paragraph text opening and closing</p>"
   ]
  },
  {
   "cell_type": "markdown",
   "metadata": {},
   "source": [
    "<p class=\"confused typing....\">what is class?</p>"
   ]
  },
  {
   "cell_type": "markdown",
   "metadata": {},
   "source": [
    "# Header test"
   ]
  },
  {
   "cell_type": "markdown",
   "metadata": {},
   "source": [
    "<p>lets try <strong>nesting<strong></p>"
   ]
  },
  {
   "cell_type": "markdown",
   "metadata": {},
   "source": [
    "<h1>Heading levels<h1>"
   ]
  },
  {
   "cell_type": "markdown",
   "metadata": {},
   "source": [
    "<h2>Sub heading<h2>"
   ]
  },
  {
   "cell_type": "markdown",
   "metadata": {},
   "source": [
    "<h2>This is h2 level<h2>"
   ]
  },
  {
   "cell_type": "markdown",
   "metadata": {},
   "source": [
    "<h3>This is h3 level<h3>"
   ]
  },
  {
   "cell_type": "markdown",
   "metadata": {},
   "source": [
    "<h4>This is h4 level<h4>"
   ]
  },
  {
   "cell_type": "markdown",
   "metadata": {},
   "source": [
    "<p>Let's try write a list</p>\n",
    "<ul>\n",
    "<li>List element 1</li>\n",
    "<li>List element 2</li>\n",
    "<li>List element 3</li>\n",
    "</ul>\n",
    "<p>Paragraph end!</p>"
   ]
  },
  {
   "cell_type": "markdown",
   "metadata": {},
   "source": [
    "<p>Embedding a link</p>\n",
    "<a href = \"https://developer.mozilla.org/en-US/docs/Learn/Getting_started_with_the_web/HTML_basics\">This is the webpage I learned all this from.</a>"
   ]
  },
  {
   "cell_type": "markdown",
   "metadata": {},
   "source": [
    "<p>Basic markdown is github flavoured markdown, GFM, it is a dialect</p>"
   ]
  },
  {
   "cell_type": "markdown",
   "metadata": {},
   "source": [
    "# Using hashtags in Markdown\n",
    "## to get the subheadings\n",
    "### of different sizes\n",
    "##### bit easier\n",
    "###### than using the HTML coding "
   ]
  },
  {
   "cell_type": "markdown",
   "metadata": {},
   "source": [
    "###### this will be super small "
   ]
  },
  {
   "cell_type": "markdown",
   "metadata": {},
   "source": [
    "anything that starts and ends with a blank line in markdown becomes a paragraph\n",
    "\n",
    "this is a paragraph "
   ]
  },
  {
   "cell_type": "markdown",
   "metadata": {},
   "source": [
    "- LETS TRY BULLET \n",
    "- POINT LIST \n",
    "    - SUB LIST\n",
    "      - JUST A DOUBLE SPACE"
   ]
  },
  {
   "cell_type": "markdown",
   "metadata": {},
   "source": [
    "1. Numbered bullets\n",
    "2. Is easy peasy\n",
    "  1. Sub levels \n",
    "      - bullets"
   ]
  },
  {
   "cell_type": "markdown",
   "metadata": {},
   "source": [
    "Ian does **not** want to see *italics* or sublists, keep it honest, keep it simple, this is a technical document"
   ]
  },
  {
   "cell_type": "markdown",
   "metadata": {},
   "source": [
    "*italics*"
   ]
  },
  {
   "cell_type": "markdown",
   "metadata": {},
   "source": [
    "**bold**"
   ]
  },
  {
   "cell_type": "markdown",
   "metadata": {},
   "source": [
    "# Headings \n",
    "\n",
    "Paragraphs \n",
    "\n",
    "- and \n",
    "- bullet \n",
    "- points"
   ]
  },
  {
   "cell_type": "markdown",
   "metadata": {},
   "source": [
    "## Imports\n",
    "\n",
    "Explain here that below this markdown cell is your code cell with the imports, why do we need that import maybe? "
   ]
  },
  {
   "cell_type": "markdown",
   "metadata": {},
   "source": [
    "## Load data\n",
    "\n",
    "The code cell underneath this will load the data "
   ]
  },
  {
   "cell_type": "markdown",
   "metadata": {},
   "source": [
    "Below: An example of a nice intro to a code cell:"
   ]
  },
  {
   "cell_type": "markdown",
   "metadata": {},
   "source": [
    "## Imports\n",
    "\n",
    "***\n",
    "Below, import Pandas. We will use pandas to structure and analyse the data in the Palmer Penguins data set. "
   ]
  },
  {
   "cell_type": "code",
   "execution_count": null,
   "metadata": {},
   "outputs": [],
   "source": [
    "import pandas as pd"
   ]
  },
  {
   "cell_type": "markdown",
   "metadata": {},
   "source": [
    "## Load Data \n",
    "***\n",
    "Load the Penguins data set using the URL."
   ]
  },
  {
   "cell_type": "code",
   "execution_count": null,
   "metadata": {},
   "outputs": [],
   "source": [
    "#Load the data set. Name of the data frame will be df\n",
    "df = pd.read_csv(\"https://raw.githubusercontent.com/mwaskom/seaborn-data/master/penguins.csv\")"
   ]
  },
  {
   "cell_type": "markdown",
   "metadata": {},
   "source": [
    "## Inspect the data \n",
    "***\n",
    "Have a good narrative that can be stepped through in your notebook"
   ]
  },
  {
   "cell_type": "markdown",
   "metadata": {},
   "source": [
    "# My Work\n",
    "*by* **Aodh O'Connor**\n",
    "\n",
    "I work at [APC](https://approcess.com/)\n",
    "\n",
    "![Pingwings](https://allisonhorst.github.io/palmerpenguins/reference/figures/lter_penguins.png)"
   ]
  },
  {
   "cell_type": "markdown",
   "metadata": {},
   "source": []
  }
 ],
 "metadata": {
  "language_info": {
   "name": "python"
  }
 },
 "nbformat": 4,
 "nbformat_minor": 2
}
